{
  "nbformat": 4,
  "nbformat_minor": 0,
  "metadata": {
    "colab": {
      "name": "A crash course of Numpy-1.ipynb",
      "provenance": [],
      "collapsed_sections": [],
      "authorship_tag": "ABX9TyOHu1s5rs7F+rQhU/+FK9xQ",
      "include_colab_link": true
    },
    "kernelspec": {
      "name": "python3",
      "display_name": "Python 3"
    }
  },
  "cells": [
    {
      "cell_type": "markdown",
      "metadata": {
        "id": "view-in-github",
        "colab_type": "text"
      },
      "source": [
        "<a href=\"https://colab.research.google.com/github/Adeelzafar/Adeelzafar/blob/main/A_crash_course_of_Numpy_1.ipynb\" target=\"_parent\"><img src=\"https://colab.research.google.com/assets/colab-badge.svg\" alt=\"Open In Colab\"/></a>"
      ]
    },
    {
      "cell_type": "markdown",
      "metadata": {
        "id": "dyJhfHLqmF4K"
      },
      "source": [
        "# NumPy\r\n",
        "\r\n",
        "NumPy is a powerful linear algebra library for Python. What makes it so important is that almost all of the libraries in the PyData ecosystem (pandas, scipy, scikit-learn, etc.) rely on NumPy as one of their main building blocks. \r\n",
        "\r\n",
        "NumPy is also incredibly fast, as it has bindings to C libraries. "
      ]
    },
    {
      "cell_type": "code",
      "metadata": {
        "id": "WUpez_ScmOMX"
      },
      "source": [
        "#importing numpy\r\n",
        "import numpy as np"
      ],
      "execution_count": 30,
      "outputs": []
    },
    {
      "cell_type": "code",
      "metadata": {
        "id": "cuDythh7fLhE"
      },
      "source": [
        "mylist = [2,3,4]"
      ],
      "execution_count": 2,
      "outputs": []
    },
    {
      "cell_type": "code",
      "metadata": {
        "colab": {
          "base_uri": "https://localhost:8080/"
        },
        "id": "8MGw9G7rfX2_",
        "outputId": "7eaf01e1-ab9a-4e4f-b602-95ab2f3f6456"
      },
      "source": [
        "#Transforming a list into numpy array\r\n",
        "np.array(mylist)"
      ],
      "execution_count": 5,
      "outputs": [
        {
          "output_type": "execute_result",
          "data": {
            "text/plain": [
              "array([2, 3, 4])"
            ]
          },
          "metadata": {
            "tags": []
          },
          "execution_count": 5
        }
      ]
    },
    {
      "cell_type": "code",
      "metadata": {
        "id": "Bc9OetnGfawH"
      },
      "source": [
        "mylist1 = [[2,3],[3,2]]"
      ],
      "execution_count": 6,
      "outputs": []
    },
    {
      "cell_type": "code",
      "metadata": {
        "colab": {
          "base_uri": "https://localhost:8080/"
        },
        "id": "MGaQ6_LsfvdZ",
        "outputId": "418f289d-3dbc-4901-d80d-592e6166b240"
      },
      "source": [
        "np.array(mylist1)"
      ],
      "execution_count": 7,
      "outputs": [
        {
          "output_type": "execute_result",
          "data": {
            "text/plain": [
              "array([[2, 3],\n",
              "       [3, 2]])"
            ]
          },
          "metadata": {
            "tags": []
          },
          "execution_count": 7
        }
      ]
    },
    {
      "cell_type": "code",
      "metadata": {
        "colab": {
          "base_uri": "https://localhost:8080/"
        },
        "id": "_NDZGWz-fxd6",
        "outputId": "e5165bb4-48ad-4fc2-e60b-9cd2b0bcf159"
      },
      "source": [
        "# we can arrange an array using arrange method in numpy\r\n",
        "np.arange(0,50)"
      ],
      "execution_count": 9,
      "outputs": [
        {
          "output_type": "execute_result",
          "data": {
            "text/plain": [
              "array([ 0,  1,  2,  3,  4,  5,  6,  7,  8,  9, 10, 11, 12, 13, 14, 15, 16,\n",
              "       17, 18, 19, 20, 21, 22, 23, 24, 25, 26, 27, 28, 29, 30, 31, 32, 33,\n",
              "       34, 35, 36, 37, 38, 39, 40, 41, 42, 43, 44, 45, 46, 47, 48, 49])"
            ]
          },
          "metadata": {
            "tags": []
          },
          "execution_count": 9
        }
      ]
    },
    {
      "cell_type": "code",
      "metadata": {
        "colab": {
          "base_uri": "https://localhost:8080/"
        },
        "id": "STcw0HzPg1eH",
        "outputId": "178fa1b3-33e3-4f93-c8d6-541e4659ca53"
      },
      "source": [
        "# you can also define a step size for arranging array, This will be the third argument\r\n",
        "np.arange(0,50,5)"
      ],
      "execution_count": 10,
      "outputs": [
        {
          "output_type": "execute_result",
          "data": {
            "text/plain": [
              "array([ 0,  5, 10, 15, 20, 25, 30, 35, 40, 45])"
            ]
          },
          "metadata": {
            "tags": []
          },
          "execution_count": 10
        }
      ]
    },
    {
      "cell_type": "code",
      "metadata": {
        "colab": {
          "base_uri": "https://localhost:8080/"
        },
        "id": "qPa8OysphIOm",
        "outputId": "4f192e12-eeaf-4df8-f269-7177d3c6c13f"
      },
      "source": [
        "#you can also create an array of zeros using the following command. Notice that the first argument is the shape of array\r\n",
        "np.zeros((3,3))"
      ],
      "execution_count": 14,
      "outputs": [
        {
          "output_type": "execute_result",
          "data": {
            "text/plain": [
              "array([[0., 0., 0.],\n",
              "       [0., 0., 0.],\n",
              "       [0., 0., 0.]])"
            ]
          },
          "metadata": {
            "tags": []
          },
          "execution_count": 14
        }
      ]
    },
    {
      "cell_type": "code",
      "metadata": {
        "colab": {
          "base_uri": "https://localhost:8080/"
        },
        "id": "fjpj9dtxhwNL",
        "outputId": "47448ba4-4589-47a3-f1d0-61793da7dee2"
      },
      "source": [
        "#similar to np zeros, you can create np ones\r\n",
        "np.ones((4,4))"
      ],
      "execution_count": 15,
      "outputs": [
        {
          "output_type": "execute_result",
          "data": {
            "text/plain": [
              "array([[1., 1., 1., 1.],\n",
              "       [1., 1., 1., 1.],\n",
              "       [1., 1., 1., 1.],\n",
              "       [1., 1., 1., 1.]])"
            ]
          },
          "metadata": {
            "tags": []
          },
          "execution_count": 15
        }
      ]
    },
    {
      "cell_type": "code",
      "metadata": {
        "colab": {
          "base_uri": "https://localhost:8080/"
        },
        "id": "Rutfk8CpiHvz",
        "outputId": "5c1be754-321d-4a3c-d650-34ba345079ea"
      },
      "source": [
        "#numpy can also be used to create an identity matrix\r\n",
        "np.eye(4)"
      ],
      "execution_count": 18,
      "outputs": [
        {
          "output_type": "execute_result",
          "data": {
            "text/plain": [
              "array([[1., 0., 0., 0.],\n",
              "       [0., 1., 0., 0.],\n",
              "       [0., 0., 1., 0.],\n",
              "       [0., 0., 0., 1.]])"
            ]
          },
          "metadata": {
            "tags": []
          },
          "execution_count": 18
        }
      ]
    },
    {
      "cell_type": "code",
      "metadata": {
        "colab": {
          "base_uri": "https://localhost:8080/"
        },
        "id": "Ls7xtzYOi0Sm",
        "outputId": "ae4e8c59-2e77-40d8-d7e5-2215f1b5df10"
      },
      "source": [
        "#numpy also supports alot of functions to create random arrays \r\n",
        "# here distribution is between 1 and 0\r\n",
        "np.random.rand(4)"
      ],
      "execution_count": 22,
      "outputs": [
        {
          "output_type": "execute_result",
          "data": {
            "text/plain": [
              "array([0.46059763, 0.89529564, 0.38056536, 0.32629814])"
            ]
          },
          "metadata": {
            "tags": []
          },
          "execution_count": 22
        }
      ]
    },
    {
      "cell_type": "code",
      "metadata": {
        "colab": {
          "base_uri": "https://localhost:8080/"
        },
        "id": "-6-bB1-8jVxq",
        "outputId": "7c124da3-7aaf-459c-a73a-b792800990b7"
      },
      "source": [
        "# to get a random matrix\r\n",
        "np.random.rand(3,3)"
      ],
      "execution_count": 23,
      "outputs": [
        {
          "output_type": "execute_result",
          "data": {
            "text/plain": [
              "array([[0.23827979, 0.39098507, 0.08438525],\n",
              "       [0.15441547, 0.57303686, 0.23827404],\n",
              "       [0.79631738, 0.0810346 , 0.41599978]])"
            ]
          },
          "metadata": {
            "tags": []
          },
          "execution_count": 23
        }
      ]
    },
    {
      "cell_type": "code",
      "metadata": {
        "colab": {
          "base_uri": "https://localhost:8080/"
        },
        "id": "CEiuKAELjf-G",
        "outputId": "4ad448c4-fd2a-4819-8730-ba59f152bd39"
      },
      "source": [
        "# if you want to generate a random salary between two salary numbers\r\n",
        "np.random.randint(100, 1000)"
      ],
      "execution_count": 26,
      "outputs": [
        {
          "output_type": "execute_result",
          "data": {
            "text/plain": [
              "959"
            ]
          },
          "metadata": {
            "tags": []
          },
          "execution_count": 26
        }
      ]
    },
    {
      "cell_type": "code",
      "metadata": {
        "colab": {
          "base_uri": "https://localhost:8080/"
        },
        "id": "CnQ795LBj5k-",
        "outputId": "06bc1493-20ef-4e2f-8580-bb922c49c822"
      },
      "source": [
        "#if you want similar random numbers for different purposes, you can use the seed function\r\n",
        "np.random.seed(30)\r\n",
        "np.random.rand(2,2)"
      ],
      "execution_count": 29,
      "outputs": [
        {
          "output_type": "execute_result",
          "data": {
            "text/plain": [
              "array([[0.64414354, 0.38074849],\n",
              "       [0.66304791, 0.16365073]])"
            ]
          },
          "metadata": {
            "tags": []
          },
          "execution_count": 29
        }
      ]
    },
    {
      "cell_type": "code",
      "metadata": {
        "colab": {
          "base_uri": "https://localhost:8080/"
        },
        "id": "vP7yioEhkgvf",
        "outputId": "04cc706c-a555-401b-e026-470016cbf4b5"
      },
      "source": [
        "array = np.arange(25)\r\n",
        "array"
      ],
      "execution_count": 33,
      "outputs": [
        {
          "output_type": "execute_result",
          "data": {
            "text/plain": [
              "array([ 0,  1,  2,  3,  4,  5,  6,  7,  8,  9, 10, 11, 12, 13, 14, 15, 16,\n",
              "       17, 18, 19, 20, 21, 22, 23, 24])"
            ]
          },
          "metadata": {
            "tags": []
          },
          "execution_count": 33
        }
      ]
    },
    {
      "cell_type": "code",
      "metadata": {
        "colab": {
          "base_uri": "https://localhost:8080/"
        },
        "id": "d02U_dmRmidE",
        "outputId": "fa6021fc-bf9f-46ae-f260-831a42d89839"
      },
      "source": [
        "# reshaping an array, lets first check the shape of array\r\n",
        "array.shape"
      ],
      "execution_count": 37,
      "outputs": [
        {
          "output_type": "execute_result",
          "data": {
            "text/plain": [
              "(25,)"
            ]
          },
          "metadata": {
            "tags": []
          },
          "execution_count": 37
        }
      ]
    },
    {
      "cell_type": "code",
      "metadata": {
        "colab": {
          "base_uri": "https://localhost:8080/"
        },
        "id": "SEJ2SqE2mtSI",
        "outputId": "639233c6-e7a8-4169-ba6a-86c378cfb0a1"
      },
      "source": [
        "array.reshape(5,5)"
      ],
      "execution_count": 38,
      "outputs": [
        {
          "output_type": "execute_result",
          "data": {
            "text/plain": [
              "array([[ 0,  1,  2,  3,  4],\n",
              "       [ 5,  6,  7,  8,  9],\n",
              "       [10, 11, 12, 13, 14],\n",
              "       [15, 16, 17, 18, 19],\n",
              "       [20, 21, 22, 23, 24]])"
            ]
          },
          "metadata": {
            "tags": []
          },
          "execution_count": 38
        }
      ]
    },
    {
      "cell_type": "code",
      "metadata": {
        "colab": {
          "base_uri": "https://localhost:8080/"
        },
        "id": "IMJHm6aGm1zT",
        "outputId": "27f9b6f9-fcda-41df-85ee-c05122451569"
      },
      "source": [
        "# we can also identify the maximum, minimun number from an array and also its index using following\r\n",
        "array.max()"
      ],
      "execution_count": 44,
      "outputs": [
        {
          "output_type": "execute_result",
          "data": {
            "text/plain": [
              "24"
            ]
          },
          "metadata": {
            "tags": []
          },
          "execution_count": 44
        }
      ]
    },
    {
      "cell_type": "code",
      "metadata": {
        "colab": {
          "base_uri": "https://localhost:8080/"
        },
        "id": "PjniTl_QnAeG",
        "outputId": "06be69cd-a4f2-4974-ac08-f422dc2a36e5"
      },
      "source": [
        "array.min()"
      ],
      "execution_count": 41,
      "outputs": [
        {
          "output_type": "execute_result",
          "data": {
            "text/plain": [
              "0"
            ]
          },
          "metadata": {
            "tags": []
          },
          "execution_count": 41
        }
      ]
    },
    {
      "cell_type": "code",
      "metadata": {
        "colab": {
          "base_uri": "https://localhost:8080/"
        },
        "id": "OZhnHuuInDUa",
        "outputId": "cf15a8b4-7233-4ac1-f35c-7f6467c11d9f"
      },
      "source": [
        "array.argmax()"
      ],
      "execution_count": 42,
      "outputs": [
        {
          "output_type": "execute_result",
          "data": {
            "text/plain": [
              "24"
            ]
          },
          "metadata": {
            "tags": []
          },
          "execution_count": 42
        }
      ]
    },
    {
      "cell_type": "code",
      "metadata": {
        "colab": {
          "base_uri": "https://localhost:8080/"
        },
        "id": "MuffClIEnFOB",
        "outputId": "54eecac3-d3bd-4d05-8747-400a5366d9ca"
      },
      "source": [
        "array.argmin()"
      ],
      "execution_count": 43,
      "outputs": [
        {
          "output_type": "execute_result",
          "data": {
            "text/plain": [
              "0"
            ]
          },
          "metadata": {
            "tags": []
          },
          "execution_count": 43
        }
      ]
    },
    {
      "cell_type": "code",
      "metadata": {
        "id": "F2OONwDpnG1p"
      },
      "source": [
        ""
      ],
      "execution_count": null,
      "outputs": []
    }
  ]
}