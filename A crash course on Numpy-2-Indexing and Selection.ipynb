{
  "nbformat": 4,
  "nbformat_minor": 0,
  "metadata": {
    "colab": {
      "name": "A crash course on Numpy-2- Indexing and Selection .ipynb",
      "provenance": [],
      "collapsed_sections": [],
      "authorship_tag": "ABX9TyNGN7jDzz8YlBMr+WTl+iHA"
    },
    "kernelspec": {
      "name": "python3",
      "display_name": "Python 3"
    }
  },
  "cells": [
    {
      "cell_type": "markdown",
      "metadata": {
        "id": "pKgaXo8QjIW6"
      },
      "source": [
        "Numpy - Indexing and Selection \r\n",
        "In this notebook, we will go through the following concepts:\r\n",
        "- Grabbing a single element\r\n",
        "- Grabbing a slice of elements\r\n",
        "- Broadcast selection\r\n",
        "- Indexing and selection in 2-d arrays\r\n",
        "- Conditional Selection\r\n"
      ]
    },
    {
      "cell_type": "code",
      "metadata": {
        "id": "AHTkZ4PXd-x5"
      },
      "source": [
        "# so lets first import numpy \r\n",
        "import numpy as np \r\n"
      ],
      "execution_count": 1,
      "outputs": []
    },
    {
      "cell_type": "code",
      "metadata": {
        "colab": {
          "base_uri": "https://localhost:8080/"
        },
        "id": "l9LftrXTe_nI",
        "outputId": "4144a678-0648-4983-da3b-22d3c6c8f846"
      },
      "source": [
        "# now i am to create an array with a step size of 4\r\n",
        "array = np.arange(0,160,4)\r\n",
        "array"
      ],
      "execution_count": 5,
      "outputs": [
        {
          "output_type": "execute_result",
          "data": {
            "text/plain": [
              "array([  0,   4,   8,  12,  16,  20,  24,  28,  32,  36,  40,  44,  48,\n",
              "        52,  56,  60,  64,  68,  72,  76,  80,  84,  88,  92,  96, 100,\n",
              "       104, 108, 112, 116, 120, 124, 128, 132, 136, 140, 144, 148, 152,\n",
              "       156])"
            ]
          },
          "metadata": {
            "tags": []
          },
          "execution_count": 5
        }
      ]
    },
    {
      "cell_type": "code",
      "metadata": {
        "colab": {
          "base_uri": "https://localhost:8080/"
        },
        "id": "V4zbxClvfG6x",
        "outputId": "44494a86-237b-4e6e-bc43-a7eeb39975a6"
      },
      "source": [
        "# just as normal arrays in any language,if we want to grab an element we can pass its index\r\n",
        "array[10]"
      ],
      "execution_count": 6,
      "outputs": [
        {
          "output_type": "execute_result",
          "data": {
            "text/plain": [
              "40"
            ]
          },
          "metadata": {
            "tags": []
          },
          "execution_count": 6
        }
      ]
    },
    {
      "cell_type": "code",
      "metadata": {
        "colab": {
          "base_uri": "https://localhost:8080/"
        },
        "id": "4iT0Q1A0fepe",
        "outputId": "a83edc0a-a6ee-4d31-ee75-85dea5fd2240"
      },
      "source": [
        "# now lets select multiple indexs\r\n",
        "# note that the last index is not included that means only values till 10 index\r\n",
        "array [1:11]"
      ],
      "execution_count": 7,
      "outputs": [
        {
          "output_type": "execute_result",
          "data": {
            "text/plain": [
              "array([ 4,  8, 12, 16, 20, 24, 28, 32, 36, 40])"
            ]
          },
          "metadata": {
            "tags": []
          },
          "execution_count": 7
        }
      ]
    },
    {
      "cell_type": "code",
      "metadata": {
        "colab": {
          "base_uri": "https://localhost:8080/"
        },
        "id": "mEI_vfCCfppH",
        "outputId": "3b03f9d0-44d9-4101-ffad-d12e5ef87159"
      },
      "source": [
        "array[:11]"
      ],
      "execution_count": 8,
      "outputs": [
        {
          "output_type": "execute_result",
          "data": {
            "text/plain": [
              "array([ 0,  4,  8, 12, 16, 20, 24, 28, 32, 36, 40])"
            ]
          },
          "metadata": {
            "tags": []
          },
          "execution_count": 8
        }
      ]
    },
    {
      "cell_type": "code",
      "metadata": {
        "colab": {
          "base_uri": "https://localhost:8080/"
        },
        "id": "AZNDVNM5f-iU",
        "outputId": "8f505ec3-9730-462d-95f6-7d279504f3af"
      },
      "source": [
        "array[10:]"
      ],
      "execution_count": 9,
      "outputs": [
        {
          "output_type": "execute_result",
          "data": {
            "text/plain": [
              "array([ 40,  44,  48,  52,  56,  60,  64,  68,  72,  76,  80,  84,  88,\n",
              "        92,  96, 100, 104, 108, 112, 116, 120, 124, 128, 132, 136, 140,\n",
              "       144, 148, 152, 156])"
            ]
          },
          "metadata": {
            "tags": []
          },
          "execution_count": 9
        }
      ]
    },
    {
      "cell_type": "code",
      "metadata": {
        "colab": {
          "base_uri": "https://localhost:8080/"
        },
        "id": "sfvnDrjGgA2y",
        "outputId": "2814467d-6d28-48ed-ad4d-8a084827a8fb"
      },
      "source": [
        "# The difference between a python list and numpy array is the ability to broadcast\r\n",
        "array[0:5] = 10\r\n",
        "array"
      ],
      "execution_count": 11,
      "outputs": [
        {
          "output_type": "execute_result",
          "data": {
            "text/plain": [
              "array([ 10,  10,  10,  10,  10,  20,  24,  28,  32,  36,  40,  44,  48,\n",
              "        52,  56,  60,  64,  68,  72,  76,  80,  84,  88,  92,  96, 100,\n",
              "       104, 108, 112, 116, 120, 124, 128, 132, 136, 140, 144, 148, 152,\n",
              "       156])"
            ]
          },
          "metadata": {
            "tags": []
          },
          "execution_count": 11
        }
      ]
    },
    {
      "cell_type": "code",
      "metadata": {
        "colab": {
          "base_uri": "https://localhost:8080/"
        },
        "id": "R4oyZoxFgcLM",
        "outputId": "6f4aaa8d-4e4b-44d7-ee46-b507f2093d35"
      },
      "source": [
        "# important point here is that broadcast can effect the original array\r\n",
        "# here is a small code to show that \r\n",
        "# first lets create a subarray or slice of original array\r\n",
        "slice_array = array[0:11] \r\n",
        "slice_array"
      ],
      "execution_count": 14,
      "outputs": [
        {
          "output_type": "execute_result",
          "data": {
            "text/plain": [
              "array([10, 10, 10, 10, 10, 20, 24, 28, 32, 36, 40])"
            ]
          },
          "metadata": {
            "tags": []
          },
          "execution_count": 14
        }
      ]
    },
    {
      "cell_type": "code",
      "metadata": {
        "colab": {
          "base_uri": "https://localhost:8080/"
        },
        "id": "tPfleQpfg-3_",
        "outputId": "fe15ac0e-05a7-41db-e0d9-394619148bb0"
      },
      "source": [
        "# lets know use broadcast to change all slice_array values to 80\r\n",
        "slice_array[:]  = 80\r\n",
        "slice_array"
      ],
      "execution_count": 17,
      "outputs": [
        {
          "output_type": "execute_result",
          "data": {
            "text/plain": [
              "array([80, 80, 80, 80, 80, 80, 80, 80, 80, 80, 80])"
            ]
          },
          "metadata": {
            "tags": []
          },
          "execution_count": 17
        }
      ]
    },
    {
      "cell_type": "code",
      "metadata": {
        "colab": {
          "base_uri": "https://localhost:8080/"
        },
        "id": "VJ8gnr16hSTZ",
        "outputId": "4be353d0-809f-41b1-fbd6-68bc11661f0f"
      },
      "source": [
        "# now lets print the original array \r\n",
        "# you can see that the broadcast on subarray has effected the original array\r\n",
        "array "
      ],
      "execution_count": 18,
      "outputs": [
        {
          "output_type": "execute_result",
          "data": {
            "text/plain": [
              "array([ 80,  80,  80,  80,  80,  80,  80,  80,  80,  80,  80,  44,  48,\n",
              "        52,  56,  60,  64,  68,  72,  76,  80,  84,  88,  92,  96, 100,\n",
              "       104, 108, 112, 116, 120, 124, 128, 132, 136, 140, 144, 148, 152,\n",
              "       156])"
            ]
          },
          "metadata": {
            "tags": []
          },
          "execution_count": 18
        }
      ]
    },
    {
      "cell_type": "code",
      "metadata": {
        "colab": {
          "base_uri": "https://localhost:8080/"
        },
        "id": "E-SiB-u5hb08",
        "outputId": "234d565a-8609-4c7c-c237-05faafb555d8"
      },
      "source": [
        "# what if you do not want broadcast to effect the original array \r\n",
        "# in that case you need to use the copy method\r\n",
        "slice_array_new = array.copy()\r\n",
        "slice_array_new"
      ],
      "execution_count": 20,
      "outputs": [
        {
          "output_type": "execute_result",
          "data": {
            "text/plain": [
              "array([ 80,  80,  80,  80,  80,  80,  80,  80,  80,  80,  80,  44,  48,\n",
              "        52,  56,  60,  64,  68,  72,  76,  80,  84,  88,  92,  96, 100,\n",
              "       104, 108, 112, 116, 120, 124, 128, 132, 136, 140, 144, 148, 152,\n",
              "       156])"
            ]
          },
          "metadata": {
            "tags": []
          },
          "execution_count": 20
        }
      ]
    },
    {
      "cell_type": "code",
      "metadata": {
        "colab": {
          "base_uri": "https://localhost:8080/"
        },
        "id": "xsiVDqX1h5MV",
        "outputId": "969c531d-9132-49c9-d833-bfc6bf7a8755"
      },
      "source": [
        "slice_array_new[:11] = 90\r\n",
        "slice_array_new"
      ],
      "execution_count": 22,
      "outputs": [
        {
          "output_type": "execute_result",
          "data": {
            "text/plain": [
              "array([ 90,  90,  90,  90,  90,  90,  90,  90,  90,  90,  90,  44,  48,\n",
              "        52,  56,  60,  64,  68,  72,  76,  80,  84,  88,  92,  96, 100,\n",
              "       104, 108, 112, 116, 120, 124, 128, 132, 136, 140, 144, 148, 152,\n",
              "       156])"
            ]
          },
          "metadata": {
            "tags": []
          },
          "execution_count": 22
        }
      ]
    },
    {
      "cell_type": "code",
      "metadata": {
        "colab": {
          "base_uri": "https://localhost:8080/"
        },
        "id": "LJrrSLcxiByN",
        "outputId": "fde3df25-30a1-4dbd-c4a2-bc41021f9d7c"
      },
      "source": [
        "# see the original array remains the same\r\n",
        "array"
      ],
      "execution_count": 24,
      "outputs": [
        {
          "output_type": "execute_result",
          "data": {
            "text/plain": [
              "array([ 80,  80,  80,  80,  80,  80,  80,  80,  80,  80,  80,  44,  48,\n",
              "        52,  56,  60,  64,  68,  72,  76,  80,  84,  88,  92,  96, 100,\n",
              "       104, 108, 112, 116, 120, 124, 128, 132, 136, 140, 144, 148, 152,\n",
              "       156])"
            ]
          },
          "metadata": {
            "tags": []
          },
          "execution_count": 24
        }
      ]
    },
    {
      "cell_type": "code",
      "metadata": {
        "colab": {
          "base_uri": "https://localhost:8080/"
        },
        "id": "YIvBxKbPiGUH",
        "outputId": "3f9dbba8-4c1e-4622-d1e3-ff9de1e03c59"
      },
      "source": [
        "# lets now work on 2d arrays \r\n",
        "array_2d = np.array([[10,20],[30,40],[50,60]])\r\n",
        "array_2d"
      ],
      "execution_count": 26,
      "outputs": [
        {
          "output_type": "execute_result",
          "data": {
            "text/plain": [
              "array([[10, 20],\n",
              "       [30, 40],\n",
              "       [50, 60]])"
            ]
          },
          "metadata": {
            "tags": []
          },
          "execution_count": 26
        }
      ]
    },
    {
      "cell_type": "code",
      "metadata": {
        "colab": {
          "base_uri": "https://localhost:8080/"
        },
        "id": "wQf-1JZ4j8Gu",
        "outputId": "09e1837f-70fe-483a-8315-4234bca83525"
      },
      "source": [
        "# to view rows and columns, we use shape method\r\n",
        "array_2d.shape"
      ],
      "execution_count": 28,
      "outputs": [
        {
          "output_type": "execute_result",
          "data": {
            "text/plain": [
              "(3, 2)"
            ]
          },
          "metadata": {
            "tags": []
          },
          "execution_count": 28
        }
      ]
    },
    {
      "cell_type": "code",
      "metadata": {
        "colab": {
          "base_uri": "https://localhost:8080/"
        },
        "id": "YjkeRiLnkOzl",
        "outputId": "17c9abfe-77e0-43ee-cee1-87514983afa2"
      },
      "source": [
        "# lets grab only the rows, run them separately to get each row\r\n",
        "array_2d[0]\r\n",
        "array_2d[1]\r\n",
        "array_2d[2]"
      ],
      "execution_count": 31,
      "outputs": [
        {
          "output_type": "execute_result",
          "data": {
            "text/plain": [
              "array([50, 60])"
            ]
          },
          "metadata": {
            "tags": []
          },
          "execution_count": 31
        }
      ]
    },
    {
      "cell_type": "code",
      "metadata": {
        "colab": {
          "base_uri": "https://localhost:8080/"
        },
        "id": "RPOcPaPlkd-R",
        "outputId": "46edc580-345e-4207-f724-ddc4737924d2"
      },
      "source": [
        "# to grab the first column\r\n",
        "array_2d[:,0]"
      ],
      "execution_count": 35,
      "outputs": [
        {
          "output_type": "execute_result",
          "data": {
            "text/plain": [
              "array([10, 30, 50])"
            ]
          },
          "metadata": {
            "tags": []
          },
          "execution_count": 35
        }
      ]
    },
    {
      "cell_type": "code",
      "metadata": {
        "colab": {
          "base_uri": "https://localhost:8080/"
        },
        "id": "q3XJBBJpkzY6",
        "outputId": "4d5a3be1-c44a-43b5-ed40-42ebf7feaa9b"
      },
      "source": [
        "# for specific values \r\n",
        "array_2d[1,1]"
      ],
      "execution_count": 37,
      "outputs": [
        {
          "output_type": "execute_result",
          "data": {
            "text/plain": [
              "40"
            ]
          },
          "metadata": {
            "tags": []
          },
          "execution_count": 37
        }
      ]
    },
    {
      "cell_type": "code",
      "metadata": {
        "colab": {
          "base_uri": "https://localhost:8080/"
        },
        "id": "0EHICYcdlCND",
        "outputId": "accb121b-efd2-45b9-8dc5-a697bebf7051"
      },
      "source": [
        "# there are different conditions that you can apply on numpy array \r\n",
        "array"
      ],
      "execution_count": 38,
      "outputs": [
        {
          "output_type": "execute_result",
          "data": {
            "text/plain": [
              "array([ 80,  80,  80,  80,  80,  80,  80,  80,  80,  80,  80,  44,  48,\n",
              "        52,  56,  60,  64,  68,  72,  76,  80,  84,  88,  92,  96, 100,\n",
              "       104, 108, 112, 116, 120, 124, 128, 132, 136, 140, 144, 148, 152,\n",
              "       156])"
            ]
          },
          "metadata": {
            "tags": []
          },
          "execution_count": 38
        }
      ]
    },
    {
      "cell_type": "code",
      "metadata": {
        "colab": {
          "base_uri": "https://localhost:8080/"
        },
        "id": "Z92-hnQtl7Xz",
        "outputId": "44d4b2e0-e69c-48de-c259-1407b3cb52a3"
      },
      "source": [
        "# for example in the above array, you only want numbers greater than 100\r\n",
        "bool_array = array > 100 \r\n",
        "bool_array\r\n"
      ],
      "execution_count": 41,
      "outputs": [
        {
          "output_type": "execute_result",
          "data": {
            "text/plain": [
              "array([False, False, False, False, False, False, False, False, False,\n",
              "       False, False, False, False, False, False, False, False, False,\n",
              "       False, False, False, False, False, False, False, False,  True,\n",
              "        True,  True,  True,  True,  True,  True,  True,  True,  True,\n",
              "        True,  True,  True,  True])"
            ]
          },
          "metadata": {
            "tags": []
          },
          "execution_count": 41
        }
      ]
    },
    {
      "cell_type": "code",
      "metadata": {
        "colab": {
          "base_uri": "https://localhost:8080/"
        },
        "id": "PFHZyaSrmJ0N",
        "outputId": "a0d6a7bf-ffd6-4de3-a0dd-874732d787f1"
      },
      "source": [
        "array[bool_array]"
      ],
      "execution_count": 42,
      "outputs": [
        {
          "output_type": "execute_result",
          "data": {
            "text/plain": [
              "array([104, 108, 112, 116, 120, 124, 128, 132, 136, 140, 144, 148, 152,\n",
              "       156])"
            ]
          },
          "metadata": {
            "tags": []
          },
          "execution_count": 42
        }
      ]
    },
    {
      "cell_type": "code",
      "metadata": {
        "colab": {
          "base_uri": "https://localhost:8080/"
        },
        "id": "8fztH1lNmd3v",
        "outputId": "da736b91-c177-4c6d-9d9e-7b38647dec20"
      },
      "source": [
        "# another way to do the above task\r\n",
        "array[array>100]"
      ],
      "execution_count": 43,
      "outputs": [
        {
          "output_type": "execute_result",
          "data": {
            "text/plain": [
              "array([104, 108, 112, 116, 120, 124, 128, 132, 136, 140, 144, 148, 152,\n",
              "       156])"
            ]
          },
          "metadata": {
            "tags": []
          },
          "execution_count": 43
        }
      ]
    }
  ]
}